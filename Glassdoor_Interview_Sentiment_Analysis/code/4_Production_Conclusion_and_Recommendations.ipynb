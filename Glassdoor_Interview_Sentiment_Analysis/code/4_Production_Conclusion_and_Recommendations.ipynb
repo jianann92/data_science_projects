{
 "cells": [
  {
   "cell_type": "markdown",
   "metadata": {},
   "source": [
    "## 4. Production, Findings and Limitations"
   ]
  },
  {
   "cell_type": "markdown",
   "metadata": {},
   "source": [
    "## Content\n",
    "- [Importing Libraries and Dataset](#Importing-Libraries-and-Dataset)\n",
    "- [Model Selection](#Model-Selection)\n",
    "- [Production Model](#Production-Model)\n",
    "- [Findings / Model Interpretation](#Findings-/-Model-Interpretation)\n",
    "- [Limitations](#Limitations)\n",
    "- [References](#References)"
   ]
  },
  {
   "cell_type": "markdown",
   "metadata": {},
   "source": [
    "## Importing Libraries and Dataset"
   ]
  },
  {
   "cell_type": "code",
   "execution_count": 1,
   "metadata": {},
   "outputs": [
    {
     "name": "stderr",
     "output_type": "stream",
     "text": [
      "[nltk_data] Downloading package wordnet to\n",
      "[nltk_data]     C:\\Users\\jiana\\AppData\\Roaming\\nltk_data...\n",
      "[nltk_data]   Package wordnet is already up-to-date!\n",
      "[nltk_data] Downloading package stopwords to\n",
      "[nltk_data]     C:\\Users\\jiana\\AppData\\Roaming\\nltk_data...\n",
      "[nltk_data]   Package stopwords is already up-to-date!\n"
     ]
    }
   ],
   "source": [
    "# Importing libraries\n",
    "\n",
    "import numpy as np\n",
    "import pandas as pd\n",
    "import scipy as sp\n",
    "import seaborn as sns\n",
    "import matplotlib.pyplot as plt\n",
    "\n",
    "%matplotlib inline\n",
    "\n",
    "import nltk\n",
    "nltk.download('wordnet')\n",
    "nltk.download('stopwords')\n",
    "from nltk.corpus import stopwords\n",
    "from nltk.stem.porter import PorterStemmer\n",
    "import regex as re\n",
    "import requests\n",
    "from lxml import html\n",
    "import getpass\n",
    "from googletrans import Translator\n",
    "\n",
    "from wordcloud import WordCloud, STOPWORDS\n",
    "from PIL import Image\n",
    "import urllib\n",
    "import unicodedata"
   ]
  },
  {
   "cell_type": "code",
   "execution_count": 2,
   "metadata": {},
   "outputs": [],
   "source": [
    "# Importing libraries\n",
    "from mlxtend.preprocessing import DenseTransformer\n",
    "from sklearn.feature_extraction.text import CountVectorizer, TfidfVectorizer, TfidfTransformer\n",
    "from sklearn.model_selection import train_test_split, cross_val_score, GridSearchCV, StratifiedKFold\n",
    "from imblearn.over_sampling import SMOTE\n",
    "from sklearn.utils import resample\n",
    "from sklearn.preprocessing import StandardScaler\n",
    "from sklearn.pipeline import Pipeline\n",
    "from sklearn.neighbors import KNeighborsClassifier\n",
    "from sklearn.naive_bayes import GaussianNB, MultinomialNB\n",
    "from sklearn.linear_model import LogisticRegression\n",
    "from sklearn.svm import SVC\n",
    "from sklearn.ensemble import RandomForestClassifier\n",
    "from xgboost import XGBClassifier\n",
    "from sklearn.metrics import classification_report, confusion_matrix, make_scorer, recall_score, accuracy_score, precision_score, f1_score, roc_auc_score\n",
    "import pickle"
   ]
  },
  {
   "cell_type": "code",
   "execution_count": 3,
   "metadata": {},
   "outputs": [],
   "source": [
    "test = pd.read_csv('../datasets/shopee.csv')"
   ]
  },
  {
   "cell_type": "code",
   "execution_count": 4,
   "metadata": {},
   "outputs": [
    {
     "data": {
      "text/plain": [
       "1    190\n",
       "0    186\n",
       "Name: target_variable, dtype: int64"
      ]
     },
     "execution_count": 4,
     "metadata": {},
     "output_type": "execute_result"
    }
   ],
   "source": [
    "test.target_variable.value_counts()"
   ]
  },
  {
   "cell_type": "code",
   "execution_count": 5,
   "metadata": {},
   "outputs": [],
   "source": [
    "X_test = test.text\n",
    "y_test = test.target_variable"
   ]
  },
  {
   "cell_type": "code",
   "execution_count": 6,
   "metadata": {},
   "outputs": [],
   "source": [
    "# Our scorer based on accuracy_score\n",
    "scorers = {'precision_score': make_scorer(precision_score),\n",
    "           'recall_score': make_scorer(recall_score),\n",
    "           'accuracy_score': make_scorer(accuracy_score),\n",
    "           'f1_score': make_scorer(f1_score),\n",
    "           'roc_auc_score': make_scorer(roc_auc_score, needs_threshold=True)\n",
    "          }\n",
    "\n",
    "#make a function that prints evaluation metrics score\n",
    "def evaluation_metrics(model):\n",
    "    y_pred = model.predict(X_test)\n",
    "    tn, fp, fn, tp = confusion_matrix(y_test, y_pred).ravel()\n",
    "    sensitivity = tp/(tp+fn)\n",
    "    specificity = tn/(tn+fp)\n",
    "    precision = tp/(tp+fp)\n",
    "    \n",
    "    print(f'Model sensitivity is : {sensitivity}')\n",
    "    print(f'Model specificity is : {specificity}')\n",
    "    print(f'Model f1 score is : {(2*sensitivity*precision)/(sensitivity+precision)}')\n",
    "    model_proba = [i[1] for i in model.predict_proba(X_test)]\n",
    "    print('ROC_AUC score on actual data: {}'.format(round(roc_auc_score(y_test, model_proba), 4)))\n",
    "    print('\\n\\nClassification report :\\n', classification_report(y_test, y_pred),'\\n')\n",
    "    print(pd.DataFrame({'Pred Negative' : [tn,fn], 'Pred Positive' : [fp,tp]}, index = ['Actual Negative','Actual Postitive']))\n",
    "\n",
    "#for final model section:\n",
    "#make a function that prints all classification metrics, AUC-ROC + TN, FP, FN, TP\n",
    "def all_metrics(model):\n",
    "    y_pred = model.predict(X_test)\n",
    "    tn, fp, fn, tp = confusion_matrix(y_test, y_pred).ravel()\n",
    "    print(\"True Negatives: \" + str(tn))\n",
    "    print(\"False Positives: \" + str(fp))\n",
    "    print(\"False Negatives: \" + str(fn))\n",
    "    print(\"True Positives: \" + str(tp))\n",
    "    print()\n",
    "    print('--------------------------------')\n",
    "    print()\n",
    "    print('Accuracy: {}'.format(round(accuracy_score(y_test, y_pred), 4)))\n",
    "    print('Misclassification rate: {}'.format(round((fp+fn)/(tp+fp+tn+fn),4)))\n",
    "    print('Precision: {}'.format(round(precision_score(y_test, y_pred), 4)))\n",
    "    print('Recall: {}'.format(round(recall_score(y_test, y_pred), 4)))\n",
    "    print('Specificity: {}'.format(round(tn/(tn+fp),4)))\n",
    "    print(f'Model f1 score is : {(f1_score(y_test, y_pred))}')\n",
    "    #get roc auc score\n",
    "    model_proba = [i[1] for i in model.predict_proba(X_test)]\n",
    "    print('ROC_AUC score on actual data: {}'.format(round(roc_auc_score(y_test, model_proba), 4)))"
   ]
  },
  {
   "cell_type": "markdown",
   "metadata": {},
   "source": [
    "## Model Selection"
   ]
  },
  {
   "cell_type": "markdown",
   "metadata": {},
   "source": [
    "| Model| Train's Acc| Val Acc| Score Difference|Sensitivity|Specificity|Validation's ROC_AUC\n",
    "|----|----|----|----|----|----|----|\n",
    "| K Nearest Neighbor (Baseline)|0.7534|0.67609|0.07731|0.9412|0.2025|0.6402\n",
    "| Multinomial Naive Bayes|0.8243|0.8239|0.0004|0.8833|0.7178|0.8791\n",
    "| Logistic Regression|0.8337|0.8349|-0.0011|0.9018|0.7152|0.8978\n",
    "| Support Vector Machine||| | ||\n",
    "| Random Forest|0.7803|0.785|-0.0046|0.8254|0.7127|0.8487\n",
    "| XGBoost|0.7298|0.7293|0.0005|0.9957|0.2533|0.8637"
   ]
  },
  {
   "cell_type": "markdown",
   "metadata": {},
   "source": [
    "Since employers want to find out what are the factors of an interview process that could lead to both a positive and negative interview experience, our model selection is evaluated based on accuracy. Businesses will use our finding to train their HR and hiring managers to avoid factors that lead to negative interview experience and adopt factors that lead to positive interview experience.\n",
    "\n",
    "The production model will have a accuary and ROC-AUC closest to 1 among all other models. For our optimization parameter, accuracy was selected as we want value both positive and negative sentiment findings. We also based our selection on ROC-AUC score as we do not have a balanced dataset.\n",
    "\n",
    "We have trained and fitted k nearest neighbor model as benchmark model and multinomial naive bayes, logistic regression, support vector classifier, random forest classifier and XGBoost classifier.\n",
    "\n",
    "Looking at the scores for all models, it appears that top performing model is the Logistic regression model. It out performs the benchmark for both accuracy and ROC-AUC scores. The model does not over fit as the train accuracy does not out weigh the validation accuracy. The closest model to the logistic regression is the multinomial naive bayes. The accuracy and AUC-ROC socre of the logistic regression is very close to the logistic regression model."
   ]
  },
  {
   "cell_type": "markdown",
   "metadata": {},
   "source": [
    "## Production Model"
   ]
  },
  {
   "cell_type": "code",
   "execution_count": 7,
   "metadata": {},
   "outputs": [],
   "source": [
    "logreg = pickle.load(open('../saved_models/logreg.sav','rb'))"
   ]
  },
  {
   "cell_type": "code",
   "execution_count": 24,
   "metadata": {},
   "outputs": [
    {
     "name": "stdout",
     "output_type": "stream",
     "text": [
      "Model sensitivity is : 0.8894736842105263\n",
      "Model specificity is : 0.6290322580645161\n",
      "Model f1 score is : 0.7897196261682243\n",
      "ROC_AUC score on actual data: 0.8143\n",
      "\n",
      "\n",
      "Classification report :\n",
      "               precision    recall  f1-score   support\n",
      "\n",
      "           0       0.85      0.63      0.72       186\n",
      "           1       0.71      0.89      0.79       190\n",
      "\n",
      "    accuracy                           0.76       376\n",
      "   macro avg       0.78      0.76      0.76       376\n",
      "weighted avg       0.78      0.76      0.76       376\n",
      " \n",
      "\n",
      "                  Pred Negative  Pred Positive\n",
      "Actual Negative             117             69\n",
      "Actual Postitive             21            169\n"
     ]
    }
   ],
   "source": [
    "evaluation_metrics(logreg)"
   ]
  },
  {
   "cell_type": "code",
   "execution_count": 25,
   "metadata": {},
   "outputs": [
    {
     "name": "stdout",
     "output_type": "stream",
     "text": [
      "True Negatives: 117\n",
      "False Positives: 69\n",
      "False Negatives: 21\n",
      "True Positives: 169\n",
      "\n",
      "--------------------------------\n",
      "\n",
      "Accuracy: 0.7606\n",
      "Misclassification rate: 0.2394\n",
      "Precision: 0.7101\n",
      "Recall: 0.8895\n",
      "Specificity: 0.629\n",
      "Model f1 score is : 0.7897196261682243\n",
      "ROC_AUC score on actual data: 0.8143\n"
     ]
    }
   ],
   "source": [
    "all_metrics(logreg)"
   ]
  },
  {
   "cell_type": "markdown",
   "metadata": {},
   "source": [
    "| Production Model|Result Acc|Sensitivity|Specificity|f1 score|ROC_AUC\n",
    "|----|---- |----  |---- |----|----|\n",
    "| Logistic Regression|0.7606|0.8895|0.629|0.7897|0.8143"
   ]
  },
  {
   "cell_type": "markdown",
   "metadata": {},
   "source": [
    "**ROU-AUC Curve**"
   ]
  },
  {
   "cell_type": "code",
   "execution_count": 10,
   "metadata": {},
   "outputs": [
    {
     "data": {
      "text/html": [
       "<div>\n",
       "<style scoped>\n",
       "    .dataframe tbody tr th:only-of-type {\n",
       "        vertical-align: middle;\n",
       "    }\n",
       "\n",
       "    .dataframe tbody tr th {\n",
       "        vertical-align: top;\n",
       "    }\n",
       "\n",
       "    .dataframe thead th {\n",
       "        text-align: right;\n",
       "    }\n",
       "</style>\n",
       "<table border=\"1\" class=\"dataframe\">\n",
       "  <thead>\n",
       "    <tr style=\"text-align: right;\">\n",
       "      <th></th>\n",
       "      <th>true_values</th>\n",
       "      <th>pred_probs</th>\n",
       "    </tr>\n",
       "  </thead>\n",
       "  <tbody>\n",
       "    <tr>\n",
       "      <th>0</th>\n",
       "      <td>1</td>\n",
       "      <td>0.592146</td>\n",
       "    </tr>\n",
       "    <tr>\n",
       "      <th>1</th>\n",
       "      <td>1</td>\n",
       "      <td>0.796532</td>\n",
       "    </tr>\n",
       "    <tr>\n",
       "      <th>2</th>\n",
       "      <td>1</td>\n",
       "      <td>0.889780</td>\n",
       "    </tr>\n",
       "    <tr>\n",
       "      <th>3</th>\n",
       "      <td>0</td>\n",
       "      <td>0.290251</td>\n",
       "    </tr>\n",
       "    <tr>\n",
       "      <th>4</th>\n",
       "      <td>0</td>\n",
       "      <td>0.009960</td>\n",
       "    </tr>\n",
       "    <tr>\n",
       "      <th>...</th>\n",
       "      <td>...</td>\n",
       "      <td>...</td>\n",
       "    </tr>\n",
       "    <tr>\n",
       "      <th>371</th>\n",
       "      <td>1</td>\n",
       "      <td>0.136898</td>\n",
       "    </tr>\n",
       "    <tr>\n",
       "      <th>372</th>\n",
       "      <td>0</td>\n",
       "      <td>0.140396</td>\n",
       "    </tr>\n",
       "    <tr>\n",
       "      <th>373</th>\n",
       "      <td>1</td>\n",
       "      <td>0.773773</td>\n",
       "    </tr>\n",
       "    <tr>\n",
       "      <th>374</th>\n",
       "      <td>0</td>\n",
       "      <td>0.903373</td>\n",
       "    </tr>\n",
       "    <tr>\n",
       "      <th>375</th>\n",
       "      <td>0</td>\n",
       "      <td>0.061781</td>\n",
       "    </tr>\n",
       "  </tbody>\n",
       "</table>\n",
       "<p>376 rows × 2 columns</p>\n",
       "</div>"
      ],
      "text/plain": [
       "     true_values  pred_probs\n",
       "0              1    0.592146\n",
       "1              1    0.796532\n",
       "2              1    0.889780\n",
       "3              0    0.290251\n",
       "4              0    0.009960\n",
       "..           ...         ...\n",
       "371            1    0.136898\n",
       "372            0    0.140396\n",
       "373            1    0.773773\n",
       "374            0    0.903373\n",
       "375            0    0.061781\n",
       "\n",
       "[376 rows x 2 columns]"
      ]
     },
     "execution_count": 10,
     "metadata": {},
     "output_type": "execute_result"
    }
   ],
   "source": [
    "pred_proba = [i[1] for i in logreg.predict_proba(X_test)]\n",
    "\n",
    "pred_df = pd.DataFrame({'true_values': y_test,\n",
    "                        'pred_probs':pred_proba})\n",
    "pred_df"
   ]
  },
  {
   "cell_type": "code",
   "execution_count": 11,
   "metadata": {},
   "outputs": [
    {
     "data": {
      "image/png": "[encoded data removed]",
      "text/plain": [
       "<Figure size 720x504 with 1 Axes>"
      ]
     },
     "metadata": {
      "needs_background": "light"
     },
     "output_type": "display_data"
    }
   ],
   "source": [
    "# Create figure.\n",
    "plt.figure(figsize = (10,7))\n",
    "\n",
    "# Create threshold values.\n",
    "thresholds = np.linspace(0, 1, 200)\n",
    "\n",
    "# Define function to calculate sensitivity. (True positive rate.)\n",
    "def TPR(df, true_col, pred_prob_col, threshold):\n",
    "    true_positive = df[(df[true_col] == 1) & (df[pred_prob_col] >= threshold)].shape[0]\n",
    "    false_negative = df[(df[true_col] == 1) & (df[pred_prob_col] < threshold)].shape[0]\n",
    "    return true_positive / (true_positive + false_negative)\n",
    "    \n",
    "\n",
    "# Define function to calculate 1 - specificity. (False positive rate.)\n",
    "def FPR(df, true_col, pred_prob_col, threshold):\n",
    "    true_negative = df[(df[true_col] == 0) & (df[pred_prob_col] <= threshold)].shape[0]\n",
    "    false_positive = df[(df[true_col] == 0) & (df[pred_prob_col] > threshold)].shape[0]\n",
    "    return 1 - (true_negative / (true_negative + false_positive))\n",
    "    \n",
    "# Calculate sensitivity & 1-specificity for each threshold between 0 and 1.\n",
    "tpr_values = [TPR(pred_df, 'true_values', 'pred_probs', prob) for prob in thresholds]\n",
    "fpr_values = [FPR(pred_df, 'true_values', 'pred_probs', prob) for prob in thresholds]\n",
    "\n",
    "# Plot ROC curve.\n",
    "plt.plot(fpr_values, # False Positive Rate on X-axis\n",
    "         tpr_values, # True Positive Rate on Y-axis\n",
    "         label='ROC Curve')\n",
    "\n",
    "# Plot baseline. (Perfect overlap between the two populations.)\n",
    "plt.plot(np.linspace(0, 1, 200),\n",
    "         np.linspace(0, 1, 200),\n",
    "         label='baseline',\n",
    "         linestyle='--')\n",
    "\n",
    "# Label axes.\n",
    "plt.title('Receiver Operating Characteristic Curve', fontsize=22)\n",
    "plt.ylabel('Sensitivity', fontsize=18)\n",
    "plt.xlabel('1 - Specificity', fontsize=18)\n",
    "\n",
    "# Create legend.\n",
    "plt.legend(fontsize=16);\n",
    "\n",
    "plt.tight_layout()"
   ]
  },
  {
   "cell_type": "code",
   "execution_count": 12,
   "metadata": {},
   "outputs": [
    {
     "data": {
      "text/plain": [
       "0.8143322014714205"
      ]
     },
     "execution_count": 12,
     "metadata": {},
     "output_type": "execute_result"
    }
   ],
   "source": [
    "roc_auc_score(y_test, [i[1] for i in logreg.predict_proba(X_test)])\n"
   ]
  },
  {
   "cell_type": "markdown",
   "metadata": {},
   "source": [
    "## Findings / Model Interpretation"
   ]
  },
  {
   "cell_type": "markdown",
   "metadata": {},
   "source": [
    "**Example of an interview review**"
   ]
  },
  {
   "cell_type": "code",
   "execution_count": 13,
   "metadata": {},
   "outputs": [
    {
     "data": {
      "text/plain": [
       "'applied online heard back within month first hr screening asked finish timed python sql test fairly easy passing technical test interviewed manager worst person ever interviewed hopefully rejected work'"
      ]
     },
     "execution_count": 13,
     "metadata": {},
     "output_type": "execute_result"
    }
   ],
   "source": [
    "X_test[3]"
   ]
  },
  {
   "cell_type": "markdown",
   "metadata": {},
   "source": [
    "**Actual sentiment is negative**"
   ]
  },
  {
   "cell_type": "code",
   "execution_count": 14,
   "metadata": {},
   "outputs": [
    {
     "data": {
      "text/plain": [
       "0"
      ]
     },
     "execution_count": 14,
     "metadata": {},
     "output_type": "execute_result"
    }
   ],
   "source": [
    "test.loc[3]['target_variable']"
   ]
  },
  {
   "cell_type": "markdown",
   "metadata": {},
   "source": [
    "**Raw text**"
   ]
  },
  {
   "cell_type": "code",
   "execution_count": 15,
   "metadata": {},
   "outputs": [
    {
     "data": {
      "text/plain": [
       "\"Applied online, heard back within a month for a first round HR screening interview. Then I was asked to finish a timed Python/SQL test which was fairly easy. After passing the technical test, I interviewed with the Manager. He was the worst person I've ever interviewed with. Hopefully he rejected me, so that I don't have to work with him.\""
      ]
     },
     "execution_count": 15,
     "metadata": {},
     "output_type": "execute_result"
    }
   ],
   "source": [
    "test.loc[3]['interview']"
   ]
  },
  {
   "cell_type": "markdown",
   "metadata": {},
   "source": [
    "**Model sentiment prediction**"
   ]
  },
  {
   "cell_type": "code",
   "execution_count": 16,
   "metadata": {},
   "outputs": [
    {
     "name": "stdout",
     "output_type": "stream",
     "text": [
      "Negative Experience\n"
     ]
    }
   ],
   "source": [
    "if logreg.predict([X_test[3]])[0] == 0:\n",
    "    print('Negative Experience')\n",
    "else:\n",
    "    print(\"Positive Experience\")"
   ]
  },
  {
   "cell_type": "markdown",
   "metadata": {},
   "source": [
    "**Negative Shopee Interview Reviews**"
   ]
  },
  {
   "cell_type": "code",
   "execution_count": 17,
   "metadata": {},
   "outputs": [
    {
     "name": "stdout",
     "output_type": "stream",
     "text": [
      "The entire interview process was very disrespectful. They don't ask for your free time and simply give you a time. During the interview, they can be up to 30 minutes late! They don't seem to have much good things to say about the company too. A senior manager said work environment is very stressful. \n",
      "\n",
      "Took less than 10 mins after waiting for more than a half-hour. The recruiter seemed very tired. She was working with her laptop while I introduce myself and didn't even give a glance. She didn't ask any work-relevant questions. \n",
      "\n",
      "Heard back over a month after applying, went through 3 rounds of interviews didn't make it to the last round. Tedious process for an entry-level position. Standard interview questions not too hard. Recruiters were pleasant, hiring manager didn't seem to be interested, felt like they already had an answer. \n",
      "\n",
      "One technical round. The interviewer provided a false link at the beginning. The interviewer does not even know Java and he kept asking how to design a dynamic size array in Java without reallocation. This is utterly disgusting. \n",
      "\n",
      "Phone interview, sent me an email to schedule phone interview. Sent email afterwards to ask why I didn't get the role and if there's anything I can work on. Did not get a reply.\n"
     ]
    }
   ],
   "source": [
    "print(test.iloc[4]['interview'],'\\n')\n",
    "print(test.iloc[24]['interview'],'\\n')\n",
    "print(test.iloc[29]['interview'],'\\n')\n",
    "print(test.iloc[41]['interview'],'\\n')\n",
    "print(test.iloc[300]['interview'])"
   ]
  },
  {
   "cell_type": "markdown",
   "metadata": {},
   "source": [
    "**Positive Shopee Interview Reviews**"
   ]
  },
  {
   "cell_type": "code",
   "execution_count": 18,
   "metadata": {},
   "outputs": [
    {
     "name": "stdout",
     "output_type": "stream",
     "text": [
      "The recruiter is very nice and she will explain to you how the company views the most for this position. Phone interview is not difficult and then she directly gives me the chance for a 2nd round test interview. The test interview is about 1.5 hrs and the Python&SQL questions are very basic. \n",
      "\n",
      "Phone interview with HR first then direct interview with the cat managers. both interviews were quite fast, within 30 minutes, i think the phone interview was shorter and the hr person was very friendly \n",
      "\n",
      "HR Manager was friendly and provided information before the interview took place. There was a better understanding of the happenings and the overall reputation of the company at present. The questions were as expected (i.e. tell me more about yourself, why are you applying for Shopee, etc. )\n"
     ]
    }
   ],
   "source": [
    "print(test.iloc[2]['interview'],'\\n')\n",
    "print(test.iloc[15]['interview'],'\\n')\n",
    "print(test.iloc[20]['interview'])"
   ]
  },
  {
   "cell_type": "markdown",
   "metadata": {},
   "source": [
    "**Keywords highly correlated to negative or positive review**"
   ]
  },
  {
   "cell_type": "code",
   "execution_count": 19,
   "metadata": {},
   "outputs": [],
   "source": [
    "log_coef = pd.DataFrame(logreg.named_steps['log'].coef_,\n",
    "             columns = logreg.named_steps['cvec'].get_feature_names()).rename(\n",
    "    index={0:'Coefficients'}).T"
   ]
  },
  {
   "cell_type": "code",
   "execution_count": 20,
   "metadata": {},
   "outputs": [
    {
     "data": {
      "image/png": "[encoded data removed]",
      "text/plain": [
       "<Figure size 720x720 with 1 Axes>"
      ]
     },
     "metadata": {
      "needs_background": "light"
     },
     "output_type": "display_data"
    }
   ],
   "source": [
    "log_coef.sort_values(by='Coefficients', ascending = True)[:50].plot(kind = 'barh',figsize = [10,10], color = 'red').set_title('Words highly correlated to negative review');"
   ]
  },
  {
   "cell_type": "code",
   "execution_count": 21,
   "metadata": {},
   "outputs": [
    {
     "data": {
      "image/png": "[encoded data removed]",
      "text/plain": [
       "<Figure size 720x720 with 1 Axes>"
      ]
     },
     "metadata": {
      "needs_background": "light"
     },
     "output_type": "display_data"
    }
   ],
   "source": [
    "log_coef.sort_values(by='Coefficients', ascending = False)[:50][::-1].plot(kind = 'barh',figsize = [10,10]).set_title('Words highly correlated to positive review');"
   ]
  },
  {
   "cell_type": "markdown",
   "metadata": {},
   "source": [
    "## Limitations"
   ]
  },
  {
   "cell_type": "code",
   "execution_count": 22,
   "metadata": {},
   "outputs": [
    {
     "data": {
      "text/plain": [
       "'They have a very extensive hiring process, I had to go through multiple interviews for an entry-level position. However, the process for my case was fast, the interview intervals happened in the span of a week or immediately the next day.'"
      ]
     },
     "execution_count": 22,
     "metadata": {},
     "output_type": "execute_result"
    }
   ],
   "source": [
    "test.iloc[30]['interview']"
   ]
  },
  {
   "cell_type": "code",
   "execution_count": 23,
   "metadata": {},
   "outputs": [
    {
     "name": "stdout",
     "output_type": "stream",
     "text": [
      "Actual sentiment : Positive Experience\n",
      "Model Predict : Negative Experience\n"
     ]
    }
   ],
   "source": [
    "if logreg.predict([test.iloc[30]['interview']])[0] == 0:\n",
    "    if test.iloc[30]['target_variable']==1:\n",
    "        print(\"Actual sentiment : Positive Experience\")\n",
    "    else:\n",
    "        print(\"Actual sentiment : Negative Experience\")\n",
    "    print('Model Predict : Negative Experience')\n",
    "else:\n",
    "    print(\"Model Predict : Positive Experience\")"
   ]
  },
  {
   "cell_type": "markdown",
   "metadata": {},
   "source": [
    "After the model predicts the results, there is still a need for someone to review and validate if certain predictions makes sense. One example is the one above where the reviewer mentioned that the hiring process was extensive and there were multiple rounds, however the process was fast. Perhaps our model picked up more negativity than positivity and as such gave it a negative sentiment as prediction.\n",
    "\n",
    "As for the limitations, our model is fitted with sentences that were scrapped from glassdoor only. As such, the model analysis is limited to the corpus of texts obtained. Any words that are new to the corpus will not be considered when doing vectorizing transformation and prediction. Another limitation is that our model is only able to pick up english words. If the review is in another language, our model is not able to accurately predict the sentiment.\n",
    "\n",
    "Our logistic model assumes linear separability between different texts. However, in reality, texts or comments are not exactly linearly separable. At the same time, Naive Bayes model assumes independence between features. Texts or comments may not be independent in fact\n",
    "\n",
    "Our analysis is limited to the generic positive or negative experience and some of the key words with high coefficients tend to be very subjective and scalable. For instance, nice is the word that has the highest coefficient for positive experience, however it is very subjective and there are too many variations of nice."
   ]
  },
  {
   "cell_type": "markdown",
   "metadata": {},
   "source": [
    "## References"
   ]
  },
  {
   "cell_type": "markdown",
   "metadata": {},
   "source": [
    "- https://www.glassdoor.sg/Interview/Amazon-Interview-Questions-E6036.htm\n",
    "- https://www.glassdoor.sg/Interview/Apple-Interview-Questions-E1138.htm\n",
    "- https://www.glassdoor.sg/Interview/Google-Interview-Questions-E9079.htm\n",
    "- https://www.glassdoor.sg/Interview/Facebook-Interview-Questions-E40772.htm\n",
    "- https://www.glassdoor.sg/Interview/Microsoft-Interview-Questions-E1651.htm\n",
    "- https://www.glassdoor.sg/Interview/Walmart-Interview-Questions-E715.htm\n",
    "- https://www.glassdoor.sg/Interview/Accenture-Interview-Questions-E4138.htm\n",
    "- https://www.glassdoor.sg/Interview/Dyson-Interview-Questions-E214340.htm\n",
    "- https://www.glassdoor.sg/Interview/Wells-Fargo-Interview-Questions-E8876.htm\n",
    "- https://www.glassdoor.sg/Interview/Netflix-Interview-Questions-E11891.htm\n",
    "- https://www.glassdoor.sg/Interview/Tesla-Interview-Questions-E43129.htm\n",
    "- https://www.glassdoor.sg/Interview/J-P-Morgan-Interview-Questions-E145.htm\n",
    "- https://www.glassdoor.sg/Interview/Bloomberg-L-P-Interview-Questions-E3096.htm\n",
    "- https://www.glassdoor.sg/Interview/LinkedIn-Interview-Questions-E34865.htm\n",
    "- https://www.glassdoor.sg/Interview/eBay-Interview-Questions-E7853.htm\n",
    "- https://www.glassdoor.sg/Interview/PayPal-Interview-Questions-E9848.htm\n",
    "- https://www.glassdoor.sg/Interview/HubSpot-Interview-Questions-E227605.htm\n",
    "- https://www.glassdoor.sg/Interview/DocuSign-Interview-Questions-E307604.htm\n",
    "- https://www.glassdoor.sg/Interview/NVIDIA-Interview-Questions-E7633.htm\n",
    "- https://www.glassdoor.sg/Interview/Oracle-Interview-Questions-E1737.htm\n",
    "- https://www.glassdoor.sg/Interview/Uber-Interview-Questions-E575263.htm\n",
    "- https://www.glassdoor.sg/Interview/Twitter-Interview-Questions-E100569.htm\n",
    "- https://www.glassdoor.sg/Interview/Lyft-Interview-Questions-E700614.htm\n",
    "- https://www.glassdoor.sg/Interview/Pinterest-Interview-Questions-E503467.htm\n",
    "- https://www.glassdoor.sg/Interview/Airbnb-Interview-Questions-E391850.htm\n",
    "- https://www.glassdoor.sg/Interview/Yelp-Interview-Questions-E43314.htm\n",
    "- https://www.glassdoor.sg/Interview/Booking-com-Interview-Questions-E256653.htm\n",
    "- https://www.glassdoor.sg/Interview/Groupon-Interview-Questions-E301291.htm\n",
    "- https://www.glassdoor.sg/Interview/TikTok-Interview-Questions-E2230881.htm\n",
    "- https://www.glassdoor.sg/Interview/ByteDance-Interview-Questions-E1624196.htm\n",
    "- https://www.glassdoor.sg/Interview/Shopee-Interview-Questions-E1263091.htm"
   ]
  }
 ],
 "metadata": {
  "kernelspec": {
   "display_name": "Python 3",
   "language": "python",
   "name": "python3"
  },
  "language_info": {
   "codemirror_mode": {
    "name": "ipython",
    "version": 3
   },
   "file_extension": ".py",
   "mimetype": "text/x-python",
   "name": "python",
   "nbconvert_exporter": "python",
   "pygments_lexer": "ipython3",
   "version": "3.8.3"
  }
 },
 "nbformat": 4,
 "nbformat_minor": 4
}
